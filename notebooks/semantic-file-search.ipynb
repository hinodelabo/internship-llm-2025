{
 "cells": [
  {
   "cell_type": "markdown",
   "id": "02fb93b1-bab4-4afa-9f2a-a59d754ec2aa",
   "metadata": {},
   "source": [
    "# Indexing"
   ]
  },
  {
   "cell_type": "code",
   "execution_count": 1,
   "id": "d3a4d1e0-b38e-4da4-ade9-21932facfb3b",
   "metadata": {},
   "outputs": [
    {
     "name": "stderr",
     "output_type": "stream",
     "text": [
      "/opt/anaconda3/envs/internship-2025/lib/python3.12/site-packages/tqdm/auto.py:21: TqdmWarning: IProgress not found. Please update jupyter and ipywidgets. See https://ipywidgets.readthedocs.io/en/stable/user_install.html\n",
      "  from .autonotebook import tqdm as notebook_tqdm\n"
     ]
    }
   ],
   "source": [
    "# Standard library\n",
    "import os\n",
    "import glob\n",
    "import pickle\n",
    "from pathlib import Path\n",
    "\n",
    "# Third-party libraries\n",
    "import numpy as np\n",
    "import pandas as pd\n",
    "import faiss\n",
    "from sentence_transformers import SentenceTransformer"
   ]
  },
  {
   "cell_type": "code",
   "execution_count": 2,
   "id": "280c30f6-ace4-47b5-a0e0-143090ec91ed",
   "metadata": {},
   "outputs": [
    {
     "name": "stdout",
     "output_type": "stream",
     "text": [
      "Barcelona.txt: loaded\n",
      "Seoul.txt: loaded\n",
      "Atlanta.txt: loaded\n",
      "Sydney.txt: loaded\n",
      "\n",
      "Total valid chunks: 4\n",
      "\n",
      "Preview: 1992年バルセロナオリンピック（正式名称：第25回夏季オリンピック競技大会）は、スペインのバルセロナで開催された国際的なスポーツ大会で、以下のような特徴があります。\n",
      "\n",
      "---\n",
      "\n",
      "### 基本情報\n",
      "\n",
      "\n",
      "Registered in FAISS index: 4 vectors\n"
     ]
    }
   ],
   "source": [
    "# Load texts\n",
    "chunks = []\n",
    "for path in glob.glob(\"../data-source/text/*.txt\"):\n",
    "    with open(path, \"r\", encoding=\"utf-8\") as f:\n",
    "        text = f.read().strip()\n",
    "    if text:\n",
    "        chunks.append({\"file_path\": path, \"text\": text})\n",
    "        print(f\"{os.path.basename(path)}: loaded\")\n",
    "    else:\n",
    "        print(f\"{os.path.basename(path)}: skipped\")\n",
    "\n",
    "print(f\"\\nTotal valid chunks: {len(chunks)}\")\n",
    "if chunks:\n",
    "    print(f\"\\nPreview: {chunks[0]['text'][:100]}\")\n",
    "\n",
    "# Build FAISS index\n",
    "model = SentenceTransformer(\"intfloat/multilingual-e5-small\")\n",
    "vecs = model.encode([c[\"text\"] for c in chunks], normalize_embeddings=True).astype(\"float32\")\n",
    "index = faiss.IndexFlatL2(vecs.shape[1])\n",
    "index.add(vecs)\n",
    "print(f\"Registered in FAISS index: {index.ntotal} vectors\")\n",
    "\n",
    "# Save index and metadata\n",
    "Path(\"../data-source/faiss\").mkdir(parents=True, exist_ok=True)\n",
    "faiss.write_index(index, \"../data-source/faiss/faiss.index\")\n",
    "with open(\"../data-source/faiss/faiss_meta.pkl\", \"wb\") as f:\n",
    "    pickle.dump(chunks, f)\n",
    "\n"
   ]
  },
  {
   "cell_type": "markdown",
   "id": "02af7b73-7297-4249-a30f-9884d170f59f",
   "metadata": {},
   "source": [
    "# Search"
   ]
  },
  {
   "cell_type": "code",
   "execution_count": 8,
   "id": "24e40044-6135-4b7e-85d1-6e86da72ea41",
   "metadata": {},
   "outputs": [
    {
     "data": {
      "text/html": [
       "<div>\n",
       "<style scoped>\n",
       "    .dataframe tbody tr th:only-of-type {\n",
       "        vertical-align: middle;\n",
       "    }\n",
       "\n",
       "    .dataframe tbody tr th {\n",
       "        vertical-align: top;\n",
       "    }\n",
       "\n",
       "    .dataframe thead th {\n",
       "        text-align: right;\n",
       "    }\n",
       "</style>\n",
       "<table border=\"1\" class=\"dataframe\">\n",
       "  <thead>\n",
       "    <tr style=\"text-align: right;\">\n",
       "      <th></th>\n",
       "      <th>text</th>\n",
       "      <th>L2-distance</th>\n",
       "    </tr>\n",
       "  </thead>\n",
       "  <tbody>\n",
       "    <tr>\n",
       "      <th>0</th>\n",
       "      <td>【2000年 シドニーオリンピック（第27回夏季大会）】\\n開催地：オーストラリア・シドニー...</td>\n",
       "      <td>0.334675</td>\n",
       "    </tr>\n",
       "    <tr>\n",
       "      <th>1</th>\n",
       "      <td>【1996年 アトランタオリンピック（第26回夏季大会）】\\n開催地：アメリカ・アトランタ\\...</td>\n",
       "      <td>0.344090</td>\n",
       "    </tr>\n",
       "    <tr>\n",
       "      <th>2</th>\n",
       "      <td>1992年バルセロナオリンピック（正式名称：第25回夏季オリンピック競技大会）は、スペインの...</td>\n",
       "      <td>0.345896</td>\n",
       "    </tr>\n",
       "    <tr>\n",
       "      <th>3</th>\n",
       "      <td>【1988年 ソウルオリンピック（第24回夏季大会）】\\n開催地：韓国・ソウル\\n期間：19...</td>\n",
       "      <td>0.374820</td>\n",
       "    </tr>\n",
       "  </tbody>\n",
       "</table>\n",
       "</div>"
      ],
      "text/plain": [
       "                                                text  L2-distance\n",
       "0  【2000年 シドニーオリンピック（第27回夏季大会）】\\n開催地：オーストラリア・シドニー...     0.334675\n",
       "1  【1996年 アトランタオリンピック（第26回夏季大会）】\\n開催地：アメリカ・アトランタ\\...     0.344090\n",
       "2  1992年バルセロナオリンピック（正式名称：第25回夏季オリンピック競技大会）は、スペインの...     0.345896\n",
       "3  【1988年 ソウルオリンピック（第24回夏季大会）】\\n開催地：韓国・ソウル\\n期間：19...     0.374820"
      ]
     },
     "execution_count": 8,
     "metadata": {},
     "output_type": "execute_result"
    }
   ],
   "source": [
    "# Search\n",
    "query = \"オーストラリアで開催\"\n",
    "query_vec = model.encode([query], normalize_embeddings=True).astype(\"float32\")\n",
    "D, I = index.search(query_vec, k=4)\n",
    "\n",
    "# Show results\n",
    "df = pd.DataFrame([\n",
    "    {\"text\": chunks[i][\"text\"][:100], \"L2-distance\": float(d)}\n",
    "    for i, d in zip(I[0], D[0]) if i < len(chunks)\n",
    "])\n",
    "df"
   ]
  },
  {
   "cell_type": "code",
   "execution_count": null,
   "id": "0ffd6994-57c0-4277-82ce-2ff60270753f",
   "metadata": {},
   "outputs": [],
   "source": []
  }
 ],
 "metadata": {
  "kernelspec": {
   "display_name": "Python 3 (ipykernel)",
   "language": "python",
   "name": "python3"
  },
  "language_info": {
   "codemirror_mode": {
    "name": "ipython",
    "version": 3
   },
   "file_extension": ".py",
   "mimetype": "text/x-python",
   "name": "python",
   "nbconvert_exporter": "python",
   "pygments_lexer": "ipython3",
   "version": "3.12.11"
  }
 },
 "nbformat": 4,
 "nbformat_minor": 5
}
