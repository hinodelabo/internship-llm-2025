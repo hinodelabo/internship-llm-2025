{
 "cells": [
  {
   "cell_type": "code",
   "execution_count": null,
   "id": "3c409645-e4c7-4332-8fc1-93290362d837",
   "metadata": {},
   "outputs": [],
   "source": []
  },
  {
   "cell_type": "code",
   "execution_count": 1,
   "id": "280c30f6-ace4-47b5-a0e0-143090ec91ed",
   "metadata": {},
   "outputs": [
    {
     "name": "stdout",
     "output_type": "stream",
     "text": [
      "PDFファイル数: 12\n",
      "20250424_4release_jp.pdf: 3 チャンク\n",
      "tenpo_all.pdf: 20 チャンク\n",
      "20250307release_jp.pdf: 2 チャンク\n",
      "20240220release_jp.pdf: 3 チャンク\n",
      "mmc2020.pdf: 12 チャンク\n",
      "news130711.pdf: 1 チャンク\n",
      "news140331_2.pdf: 1 チャンク\n",
      "news131119.pdf: 1 チャンク\n",
      "20250328_4release_jp.pdf: 2 チャンク\n",
      "20250114release_jp.pdf: 1 チャンク\n",
      "20250129release_jp.pdf: 1 チャンク\n",
      "tenpo_01.pdf: 7 チャンク\n",
      "\n",
      "総チャンク数: 54\n",
      "\n",
      "📄 page 1 (../data/input/pdf/20250424_4release_jp.pdf) の内容:\n",
      "\n",
      "2025 年 4 月 24 日\n",
      "株式会社みずほ銀行\n",
      "GMO イプシロン株式会社\n",
      "企業間決済プラットフォーム「M's PayBridge」の取扱開始について\n",
      "～業務プロセスと決済のシームレスな融合～\n",
      "株\n"
     ]
    }
   ],
   "source": [
    "import logging\n",
    "logging.getLogger(\"pdfminer\").setLevel(logging.ERROR)\n",
    "\n",
    "import os\n",
    "import glob\n",
    "import pdfplumber\n",
    "\n",
    "pdf_dir = \"../data/input/pdf/\"\n",
    "\n",
    "# チャンク化関数（1ファイル分）\n",
    "def chunk_pdf(file_path):\n",
    "    chunks = []\n",
    "    with pdfplumber.open(file_path) as pdf:\n",
    "        for i, page in enumerate(pdf.pages):\n",
    "            text = page.extract_text()\n",
    "            if text:\n",
    "                chunks.append({\n",
    "                    \"chunk_id\": f\"{file_path}_page_{i+1}\",\n",
    "                    \"text\": text.strip(),\n",
    "                    \"page\": i + 1,\n",
    "                    \"file_path\": file_path,\n",
    "                })\n",
    "    return chunks\n",
    "\n",
    "# すべてのPDFを処理してまとめてチャンク化\n",
    "all_chunks = []\n",
    "pdf_files = glob.glob(os.path.join(pdf_dir, \"*.pdf\"))\n",
    "\n",
    "print(f\"PDFファイル数: {len(pdf_files)}\")\n",
    "\n",
    "for file_path in pdf_files:\n",
    "    chunks = chunk_pdf(file_path)\n",
    "    all_chunks.extend(chunks)\n",
    "    print(f\"{os.path.basename(file_path)}: {len(chunks)} チャンク\")\n",
    "\n",
    "print(f\"\\n総チャンク数: {len(all_chunks)}\")\n",
    "\n",
    "if all_chunks:\n",
    "    print(f\"\\n📄 page {all_chunks[0]['page']} ({all_chunks[0]['file_path']}) の内容:\\n\")\n",
    "    print(all_chunks[0][\"text\"][:100])\n"
   ]
  },
  {
   "cell_type": "code",
   "execution_count": 2,
   "id": "31a3f855-7fbd-4f3b-94f3-2b33d12a7b3b",
   "metadata": {},
   "outputs": [
    {
     "data": {
      "text/html": [
       "<div>\n",
       "<style scoped>\n",
       "    .dataframe tbody tr th:only-of-type {\n",
       "        vertical-align: middle;\n",
       "    }\n",
       "\n",
       "    .dataframe tbody tr th {\n",
       "        vertical-align: top;\n",
       "    }\n",
       "\n",
       "    .dataframe thead th {\n",
       "        text-align: right;\n",
       "    }\n",
       "</style>\n",
       "<table border=\"1\" class=\"dataframe\">\n",
       "  <thead>\n",
       "    <tr style=\"text-align: right;\">\n",
       "      <th></th>\n",
       "      <th>page</th>\n",
       "      <th>text</th>\n",
       "    </tr>\n",
       "  </thead>\n",
       "  <tbody>\n",
       "    <tr>\n",
       "      <th>0</th>\n",
       "      <td>1</td>\n",
       "      <td>国内拠点（本店・支店・営業部・出張所）のご案内\\n＊2月曜日の0：00から7：00まではご利...</td>\n",
       "    </tr>\n",
       "    <tr>\n",
       "      <th>1</th>\n",
       "      <td>2</td>\n",
       "      <td>国内拠点（本店・支店・営業部・出張所）のご案内\\n＊2月曜日の0：00から7：00まではご利...</td>\n",
       "    </tr>\n",
       "    <tr>\n",
       "      <th>2</th>\n",
       "      <td>3</td>\n",
       "      <td>国内拠点（本店・支店・営業部・出張所）のご案内\\n＊2月曜日の0：00から7：00まではご利...</td>\n",
       "    </tr>\n",
       "    <tr>\n",
       "      <th>3</th>\n",
       "      <td>4</td>\n",
       "      <td>国内拠点（本店・支店・営業部・出張所）のご案内\\n＊2月曜日の0：00から7：00まではご利...</td>\n",
       "    </tr>\n",
       "    <tr>\n",
       "      <th>4</th>\n",
       "      <td>5</td>\n",
       "      <td>国内拠点（本店・支店・営業部・出張所）のご案内\\n＊2月曜日の0：00から7：00まではご利...</td>\n",
       "    </tr>\n",
       "  </tbody>\n",
       "</table>\n",
       "</div>"
      ],
      "text/plain": [
       "   page                                               text\n",
       "0     1  国内拠点（本店・支店・営業部・出張所）のご案内\\n＊2月曜日の0：00から7：00まではご利...\n",
       "1     2  国内拠点（本店・支店・営業部・出張所）のご案内\\n＊2月曜日の0：00から7：00まではご利...\n",
       "2     3  国内拠点（本店・支店・営業部・出張所）のご案内\\n＊2月曜日の0：00から7：00まではご利...\n",
       "3     4  国内拠点（本店・支店・営業部・出張所）のご案内\\n＊2月曜日の0：00から7：00まではご利...\n",
       "4     5  国内拠点（本店・支店・営業部・出張所）のご案内\\n＊2月曜日の0：00から7：00まではご利..."
      ]
     },
     "execution_count": 2,
     "metadata": {},
     "output_type": "execute_result"
    }
   ],
   "source": [
    "import pandas as pd\n",
    "\n",
    "df = pd.DataFrame(chunks)\n",
    "df[[\"page\", \"text\"]].head(5)\n"
   ]
  },
  {
   "cell_type": "code",
   "execution_count": 3,
   "id": "d4cd8f50-21d3-4125-89d3-adadd9519dc8",
   "metadata": {},
   "outputs": [
    {
     "data": {
      "text/plain": [
       "7"
      ]
     },
     "execution_count": 3,
     "metadata": {},
     "output_type": "execute_result"
    }
   ],
   "source": [
    "df.shape[0]"
   ]
  },
  {
   "cell_type": "code",
   "execution_count": 4,
   "id": "fbcec4e0-dc51-4fc7-8ca5-eb5a51ee4c5c",
   "metadata": {},
   "outputs": [
    {
     "data": {
      "text/plain": [
       "7"
      ]
     },
     "execution_count": 4,
     "metadata": {},
     "output_type": "execute_result"
    }
   ],
   "source": [
    "len(df)"
   ]
  },
  {
   "cell_type": "code",
   "execution_count": 5,
   "id": "870506d1-fffa-4d2b-b2ee-e63166e7bc55",
   "metadata": {},
   "outputs": [
    {
     "name": "stderr",
     "output_type": "stream",
     "text": [
      "/opt/anaconda3/envs/search-vector-semantic-files/lib/python3.12/site-packages/tqdm/auto.py:21: TqdmWarning: IProgress not found. Please update jupyter and ipywidgets. See https://ipywidgets.readthedocs.io/en/stable/user_install.html\n",
      "  from .autonotebook import tqdm as notebook_tqdm\n"
     ]
    }
   ],
   "source": [
    "from sentence_transformers import SentenceTransformer\n",
    "import numpy as np\n",
    "\n",
    "# モデルの読み込み（軽量で日本語対応）\n",
    "model = SentenceTransformer(\"intfloat/multilingual-e5-small\")\n",
    "\n",
    "# チャンクからテキストだけ抽出\n",
    "texts = [chunk[\"text\"] for chunk in all_chunks]\n",
    "\n",
    "# ベクトル化（正規化あり）\n",
    "embeddings = model.encode(texts, normalize_embeddings=True)\n",
    "\n",
    "# ベクトルを各チャンクに追加（NumPy形式）\n",
    "for chunk, emb in zip(all_chunks, embeddings):\n",
    "    chunk[\"embedding\"] = emb\n"
   ]
  },
  {
   "cell_type": "code",
   "execution_count": 6,
   "id": "88c82e8b-7725-401d-b98f-fba71fe63492",
   "metadata": {},
   "outputs": [
    {
     "name": "stdout",
     "output_type": "stream",
     "text": [
      "チャンク数: 54\n",
      "ベクトル次元: 384\n",
      "\n",
      "最初のチャンクのベクトル（先頭5次元）:\n",
      "[ 0.04392845 -0.01558716 -0.02172278  0.00289719  0.04273948]\n"
     ]
    }
   ],
   "source": [
    "# チャンク数とベクトル次元の確認\n",
    "print(f\"チャンク数: {len(all_chunks)}\")\n",
    "print(f\"ベクトル次元: {len(all_chunks[0]['embedding'])}\")\n",
    "\n",
    "# 最初の1件を確認\n",
    "print(\"\\n最初のチャンクのベクトル（先頭5次元）:\")\n",
    "print(all_chunks[0][\"embedding\"][:5])\n"
   ]
  },
  {
   "cell_type": "code",
   "execution_count": 7,
   "id": "3e0f8d7b-445d-4637-a601-289245d1941c",
   "metadata": {},
   "outputs": [
    {
     "name": "stdout",
     "output_type": "stream",
     "text": [
      "総チャンク数: 54\n",
      "FAISSインデックスに登録済み: 54 件\n",
      "インデックス保存: ../data/faiss/faiss.index\n",
      "メタ情報保存: ../data/faiss/faiss_meta.pkl\n"
     ]
    }
   ],
   "source": [
    "import faiss\n",
    "import numpy as np\n",
    "import pickle\n",
    "from pathlib import Path\n",
    "from glob import glob\n",
    "import pdfplumber\n",
    "from sentence_transformers import SentenceTransformer\n",
    "\n",
    "pdf_dir = Path(\"../data/input/pdf\")\n",
    "pdf_paths = sorted(pdf_dir.glob(\"*.pdf\"))\n",
    "\n",
    "all_chunks = []\n",
    "\n",
    "# モデルの準備（日本語対応、軽量）\n",
    "model = SentenceTransformer(\"intfloat/multilingual-e5-small\")\n",
    "\n",
    "# 各PDFを処理\n",
    "for pdf_path in pdf_paths:\n",
    "    with pdfplumber.open(pdf_path) as pdf:\n",
    "        for i, page in enumerate(pdf.pages):\n",
    "            text = page.extract_text()\n",
    "            if text:\n",
    "                all_chunks.append({\n",
    "                    \"chunk_id\": f\"{pdf_path}_page_{i+1}\",\n",
    "                    \"text\": text.strip(),\n",
    "                    \"page\": i + 1,\n",
    "                    \"file_path\": str(pdf_path)\n",
    "                })\n",
    "\n",
    "print(f\"総チャンク数: {len(all_chunks)}\")\n",
    "\n",
    "# ベクトル化\n",
    "texts = [chunk[\"text\"] for chunk in all_chunks]\n",
    "embeddings = model.encode(texts, normalize_embeddings=True)\n",
    "for chunk, emb in zip(all_chunks, embeddings):\n",
    "    chunk[\"embedding\"] = emb\n",
    "\n",
    "# FAISSインデックス構築・登録\n",
    "dim = len(all_chunks[0][\"embedding\"])\n",
    "index = faiss.IndexFlatL2(dim)\n",
    "vecs = np.array([chunk[\"embedding\"] for chunk in all_chunks]).astype(\"float32\")\n",
    "index.add(vecs)\n",
    "print(f\"FAISSインデックスに登録済み: {index.ntotal} 件\")\n",
    "\n",
    "index_path = Path(\"../data/faiss/faiss.index\")\n",
    "meta_path = Path(\"../data/faiss/faiss_meta.pkl\")\n",
    "index_path.parent.mkdir(parents=True, exist_ok=True)\n",
    "\n",
    "faiss.write_index(index, str(index_path))\n",
    "print(f\"インデックス保存: {index_path}\")\n",
    "\n",
    "for chunk in all_chunks:\n",
    "    chunk[\"embedding\"] = None  # 軽量化\n",
    "\n",
    "with open(meta_path, \"wb\") as f:\n",
    "    pickle.dump(all_chunks, f)\n",
    "print(f\"メタ情報保存: {meta_path}\")\n"
   ]
  },
  {
   "cell_type": "code",
   "execution_count": 9,
   "id": "24e40044-6135-4b7e-85d1-6e86da72ea41",
   "metadata": {},
   "outputs": [
    {
     "data": {
      "text/html": [
       "<div>\n",
       "<style scoped>\n",
       "    .dataframe tbody tr th:only-of-type {\n",
       "        vertical-align: middle;\n",
       "    }\n",
       "\n",
       "    .dataframe tbody tr th {\n",
       "        vertical-align: top;\n",
       "    }\n",
       "\n",
       "    .dataframe thead th {\n",
       "        text-align: right;\n",
       "    }\n",
       "</style>\n",
       "<table border=\"1\" class=\"dataframe\">\n",
       "  <thead>\n",
       "    <tr style=\"text-align: right;\">\n",
       "      <th></th>\n",
       "      <th>page</th>\n",
       "      <th>file_path</th>\n",
       "      <th>text</th>\n",
       "      <th>score(L2距離)</th>\n",
       "    </tr>\n",
       "  </thead>\n",
       "  <tbody>\n",
       "    <tr>\n",
       "      <th>0</th>\n",
       "      <td>1</td>\n",
       "      <td>../data/input/pdf/news130711.pdf</td>\n",
       "      <td>2013年7月11日\\n株式会社みずほ銀行\\nラオス計画投資省との業務協力覚書の締結について...</td>\n",
       "      <td>0.261698</td>\n",
       "    </tr>\n",
       "    <tr>\n",
       "      <th>1</th>\n",
       "      <td>16</td>\n",
       "      <td>../data/input/pdf/tenpo_all.pdf</td>\n",
       "      <td>国内拠点（本店・支店・営業部・出張所）のご案内\\n＊2月曜日の0：00から7：00まではご利...</td>\n",
       "      <td>0.353209</td>\n",
       "    </tr>\n",
       "    <tr>\n",
       "      <th>2</th>\n",
       "      <td>1</td>\n",
       "      <td>../data/input/pdf/20250328_4release_jp.pdf</td>\n",
       "      <td>2025年3月28日\\n株式会社みずほフィナンシャルグループ\\n株式会社みずほ銀行\\nみずほ...</td>\n",
       "      <td>0.353838</td>\n",
       "    </tr>\n",
       "    <tr>\n",
       "      <th>3</th>\n",
       "      <td>1</td>\n",
       "      <td>../data/input/pdf/news131119.pdf</td>\n",
       "      <td>2013年11月19日\\n株式会社みずほ銀行\\nアリババグループとの業務協力覚書の締結につい...</td>\n",
       "      <td>0.357040</td>\n",
       "    </tr>\n",
       "    <tr>\n",
       "      <th>4</th>\n",
       "      <td>3</td>\n",
       "      <td>../data/input/pdf/20240220release_jp.pdf</td>\n",
       "      <td>(4) 主な事業内容 金属資源、エネルギー、プロジェクト、モビリティ、化学品、鉄鋼\\n製品、...</td>\n",
       "      <td>0.357286</td>\n",
       "    </tr>\n",
       "  </tbody>\n",
       "</table>\n",
       "</div>"
      ],
      "text/plain": [
       "   page                                   file_path  \\\n",
       "0     1            ../data/input/pdf/news130711.pdf   \n",
       "1    16             ../data/input/pdf/tenpo_all.pdf   \n",
       "2     1  ../data/input/pdf/20250328_4release_jp.pdf   \n",
       "3     1            ../data/input/pdf/news131119.pdf   \n",
       "4     3    ../data/input/pdf/20240220release_jp.pdf   \n",
       "\n",
       "                                                text  score(L2距離)  \n",
       "0  2013年7月11日\\n株式会社みずほ銀行\\nラオス計画投資省との業務協力覚書の締結について...     0.261698  \n",
       "1  国内拠点（本店・支店・営業部・出張所）のご案内\\n＊2月曜日の0：00から7：00まではご利...     0.353209  \n",
       "2  2025年3月28日\\n株式会社みずほフィナンシャルグループ\\n株式会社みずほ銀行\\nみずほ...     0.353838  \n",
       "3  2013年11月19日\\n株式会社みずほ銀行\\nアリババグループとの業務協力覚書の締結につい...     0.357040  \n",
       "4  (4) 主な事業内容 金属資源、エネルギー、プロジェクト、モビリティ、化学品、鉄鋼\\n製品、...     0.357286  "
      ]
     },
     "execution_count": 9,
     "metadata": {},
     "output_type": "execute_result"
    }
   ],
   "source": [
    "import faiss\n",
    "import pickle\n",
    "import numpy as np\n",
    "from sentence_transformers import SentenceTransformer\n",
    "import pandas as pd\n",
    "\n",
    "index = faiss.read_index(\"../data/faiss/faiss.index\")\n",
    "\n",
    "with open(\"../data/faiss/faiss_meta.pkl\", \"rb\") as f:\n",
    "    chunks = pickle.load(f)\n",
    "\n",
    "model = SentenceTransformer(\"intfloat/multilingual-e5-small\")\n",
    "\n",
    "query = \"ラオスについて\"\n",
    "\n",
    "# クエリをベクトル化（正規化あり）\n",
    "query_vec = model.encode([query], normalize_embeddings=True).astype(\"float32\")\n",
    "\n",
    "# FAISS検索（上位5件）\n",
    "k = 5\n",
    "D, I = index.search(query_vec, k)  # D: 距離、I: インデックス\n",
    "\n",
    "# 検索結果の整形\n",
    "results = []\n",
    "for idx, dist in zip(I[0], D[0]):\n",
    "    if idx < len(chunks):\n",
    "        result = {\n",
    "            \"page\": chunks[idx][\"page\"],\n",
    "            \"file_path\": chunks[idx][\"file_path\"],\n",
    "            \"text\": chunks[idx][\"text\"][:150] + \"...\",  # テキスト冒頭だけ表示\n",
    "            \"score(L2距離)\": float(dist)\n",
    "        }\n",
    "        results.append(result)\n",
    "\n",
    "df = pd.DataFrame(results)\n",
    "df\n"
   ]
  },
  {
   "cell_type": "code",
   "execution_count": null,
   "id": "0ffd6994-57c0-4277-82ce-2ff60270753f",
   "metadata": {},
   "outputs": [],
   "source": []
  },
  {
   "cell_type": "code",
   "execution_count": null,
   "id": "cdba1fbb-879c-472d-a6bb-823d3844a1c7",
   "metadata": {},
   "outputs": [],
   "source": []
  },
  {
   "cell_type": "code",
   "execution_count": null,
   "id": "6777ba7f-e017-436e-8737-5469f19e1762",
   "metadata": {},
   "outputs": [],
   "source": []
  },
  {
   "cell_type": "code",
   "execution_count": null,
   "id": "84a5a87c-3c21-42d0-883f-a29d21734232",
   "metadata": {},
   "outputs": [],
   "source": []
  },
  {
   "cell_type": "code",
   "execution_count": null,
   "id": "8bbcf4c4-4990-472d-8cea-2e1c7414a2b0",
   "metadata": {},
   "outputs": [],
   "source": []
  },
  {
   "cell_type": "code",
   "execution_count": null,
   "id": "5c5cfceb-8661-4b68-92d1-705cfb749f19",
   "metadata": {},
   "outputs": [],
   "source": []
  },
  {
   "cell_type": "code",
   "execution_count": null,
   "id": "eb2ddee6-8e37-420c-9780-526d3b4a887d",
   "metadata": {},
   "outputs": [],
   "source": []
  },
  {
   "cell_type": "code",
   "execution_count": null,
   "id": "64ba6aec-7c48-4f0f-9a94-db4d4508b96b",
   "metadata": {},
   "outputs": [],
   "source": []
  },
  {
   "cell_type": "code",
   "execution_count": null,
   "id": "466085b8-d0f3-4c10-8ace-509c9551b869",
   "metadata": {},
   "outputs": [],
   "source": []
  },
  {
   "cell_type": "code",
   "execution_count": null,
   "id": "a0f5fbcd-b843-4897-98d4-a78cf21e9809",
   "metadata": {},
   "outputs": [],
   "source": []
  },
  {
   "cell_type": "code",
   "execution_count": null,
   "id": "516d57bd-df86-4db2-8464-5f774706e62e",
   "metadata": {},
   "outputs": [],
   "source": []
  },
  {
   "cell_type": "code",
   "execution_count": null,
   "id": "70fa355e-67b0-42e8-8d38-66a54d385739",
   "metadata": {},
   "outputs": [],
   "source": []
  }
 ],
 "metadata": {
  "kernelspec": {
   "display_name": "Python 3 (ipykernel)",
   "language": "python",
   "name": "python3"
  },
  "language_info": {
   "codemirror_mode": {
    "name": "ipython",
    "version": 3
   },
   "file_extension": ".py",
   "mimetype": "text/x-python",
   "name": "python",
   "nbconvert_exporter": "python",
   "pygments_lexer": "ipython3",
   "version": "3.12.11"
  }
 },
 "nbformat": 4,
 "nbformat_minor": 5
}
