{
 "cells": [
  {
   "cell_type": "code",
   "execution_count": null,
   "id": "3c409645-e4c7-4332-8fc1-93290362d837",
   "metadata": {},
   "outputs": [],
   "source": []
  },
  {
   "cell_type": "code",
   "execution_count": 2,
   "id": "280c30f6-ace4-47b5-a0e0-143090ec91ed",
   "metadata": {},
   "outputs": [
    {
     "name": "stdout",
     "output_type": "stream",
     "text": [
      "PDFファイル数: 2\n",
      "invoicesample.pdf: 1 チャンク\n",
      "drylab.pdf: 3 チャンク\n",
      "\n",
      "総チャンク数: 4\n",
      "\n",
      "📄 page 1 (../data-source/input/invoicesample.pdf) の内容:\n",
      "\n",
      "Denny Gunawan\n",
      "221 Queen St\n",
      "Melbourne VIC 3000\n",
      "$39.60\n",
      "123 Somewhere St, Melbourne VIC 3000\n",
      "(03) 1234 \n"
     ]
    }
   ],
   "source": [
    "import logging\n",
    "logging.getLogger(\"pdfminer\").setLevel(logging.ERROR)\n",
    "\n",
    "import os\n",
    "import glob\n",
    "import pdfplumber\n",
    "\n",
    "pdf_dir = \"../data-source/input\"\n",
    "\n",
    "# チャンク化関数（1ファイル分）\n",
    "def chunk_pdf(file_path):\n",
    "    chunks = []\n",
    "    with pdfplumber.open(file_path) as pdf:\n",
    "        for i, page in enumerate(pdf.pages):\n",
    "            text = page.extract_text()\n",
    "            if text:\n",
    "                chunks.append({\n",
    "                    \"chunk_id\": f\"{file_path}_page_{i+1}\",\n",
    "                    \"text\": text.strip(),\n",
    "                    \"page\": i + 1,\n",
    "                    \"file_path\": file_path,\n",
    "                })\n",
    "    return chunks\n",
    "\n",
    "# すべてのPDFを処理してまとめてチャンク化\n",
    "all_chunks = []\n",
    "pdf_files = glob.glob(os.path.join(pdf_dir, \"*.pdf\"))\n",
    "\n",
    "print(f\"PDFファイル数: {len(pdf_files)}\")\n",
    "\n",
    "for file_path in pdf_files:\n",
    "    chunks = chunk_pdf(file_path)\n",
    "    all_chunks.extend(chunks)\n",
    "    print(f\"{os.path.basename(file_path)}: {len(chunks)} チャンク\")\n",
    "\n",
    "print(f\"\\n総チャンク数: {len(all_chunks)}\")\n",
    "\n",
    "if all_chunks:\n",
    "    print(f\"\\n📄 page {all_chunks[0]['page']} ({all_chunks[0]['file_path']}) の内容:\\n\")\n",
    "    print(all_chunks[0][\"text\"][:100])\n"
   ]
  },
  {
   "cell_type": "code",
   "execution_count": 3,
   "id": "31a3f855-7fbd-4f3b-94f3-2b33d12a7b3b",
   "metadata": {},
   "outputs": [
    {
     "data": {
      "text/html": [
       "<div>\n",
       "<style scoped>\n",
       "    .dataframe tbody tr th:only-of-type {\n",
       "        vertical-align: middle;\n",
       "    }\n",
       "\n",
       "    .dataframe tbody tr th {\n",
       "        vertical-align: top;\n",
       "    }\n",
       "\n",
       "    .dataframe thead th {\n",
       "        text-align: right;\n",
       "    }\n",
       "</style>\n",
       "<table border=\"1\" class=\"dataframe\">\n",
       "  <thead>\n",
       "    <tr style=\"text-align: right;\">\n",
       "      <th></th>\n",
       "      <th>page</th>\n",
       "      <th>text</th>\n",
       "    </tr>\n",
       "  </thead>\n",
       "  <tbody>\n",
       "    <tr>\n",
       "      <th>0</th>\n",
       "      <td>1</td>\n",
       "      <td>DrylabNews\\nfor investors &amp; friends · May 2017...</td>\n",
       "    </tr>\n",
       "    <tr>\n",
       "      <th>1</th>\n",
       "      <td>2</td>\n",
       "      <td>Holmsen, Torstein Hansen, and Jostein accompli...</td>\n",
       "    </tr>\n",
       "    <tr>\n",
       "      <th>2</th>\n",
       "      <td>3</td>\n",
       "      <td>Paralinx about camera integration; Amazon, The...</td>\n",
       "    </tr>\n",
       "  </tbody>\n",
       "</table>\n",
       "</div>"
      ],
      "text/plain": [
       "   page                                               text\n",
       "0     1  DrylabNews\\nfor investors & friends · May 2017...\n",
       "1     2  Holmsen, Torstein Hansen, and Jostein accompli...\n",
       "2     3  Paralinx about camera integration; Amazon, The..."
      ]
     },
     "execution_count": 3,
     "metadata": {},
     "output_type": "execute_result"
    }
   ],
   "source": [
    "import pandas as pd\n",
    "\n",
    "df = pd.DataFrame(chunks)\n",
    "df[[\"page\", \"text\"]].head(5)\n"
   ]
  },
  {
   "cell_type": "code",
   "execution_count": 4,
   "id": "d4cd8f50-21d3-4125-89d3-adadd9519dc8",
   "metadata": {},
   "outputs": [
    {
     "data": {
      "text/plain": [
       "3"
      ]
     },
     "execution_count": 4,
     "metadata": {},
     "output_type": "execute_result"
    }
   ],
   "source": [
    "df.shape[0]"
   ]
  },
  {
   "cell_type": "code",
   "execution_count": 5,
   "id": "fbcec4e0-dc51-4fc7-8ca5-eb5a51ee4c5c",
   "metadata": {},
   "outputs": [
    {
     "data": {
      "text/plain": [
       "3"
      ]
     },
     "execution_count": 5,
     "metadata": {},
     "output_type": "execute_result"
    }
   ],
   "source": [
    "len(df)"
   ]
  },
  {
   "cell_type": "code",
   "execution_count": 6,
   "id": "870506d1-fffa-4d2b-b2ee-e63166e7bc55",
   "metadata": {},
   "outputs": [
    {
     "name": "stderr",
     "output_type": "stream",
     "text": [
      "/opt/anaconda3/envs/internship-2025/lib/python3.12/site-packages/tqdm/auto.py:21: TqdmWarning: IProgress not found. Please update jupyter and ipywidgets. See https://ipywidgets.readthedocs.io/en/stable/user_install.html\n",
      "  from .autonotebook import tqdm as notebook_tqdm\n"
     ]
    }
   ],
   "source": [
    "from sentence_transformers import SentenceTransformer\n",
    "import numpy as np\n",
    "\n",
    "# モデル読み込み\n",
    "model = SentenceTransformer(\"intfloat/multilingual-e5-small\")\n",
    "\n",
    "# チャンクからテキストだけ抽出\n",
    "texts = [chunk[\"text\"] for chunk in all_chunks]\n",
    "\n",
    "# ベクトル化\n",
    "embeddings = model.encode(texts, normalize_embeddings=True)\n",
    "\n",
    "# ベクトルを各チャンクに追加（NumPy形式）\n",
    "for chunk, emb in zip(all_chunks, embeddings):\n",
    "    chunk[\"embedding\"] = emb\n"
   ]
  },
  {
   "cell_type": "code",
   "execution_count": 7,
   "id": "88c82e8b-7725-401d-b98f-fba71fe63492",
   "metadata": {},
   "outputs": [
    {
     "name": "stdout",
     "output_type": "stream",
     "text": [
      "チャンク数: 4\n",
      "ベクトル次元: 384\n",
      "\n",
      "最初のチャンクのベクトル（先頭5次元）:\n",
      "[ 0.0359938  -0.06014847 -0.05361765 -0.01966536  0.09683131]\n"
     ]
    }
   ],
   "source": [
    "# チャンク数とベクトル次元の確認\n",
    "print(f\"チャンク数: {len(all_chunks)}\")\n",
    "print(f\"ベクトル次元: {len(all_chunks[0]['embedding'])}\")\n",
    "\n",
    "# 最初の1件確認\n",
    "print(\"\\n最初のチャンクのベクトル（先頭5次元）:\")\n",
    "print(all_chunks[0][\"embedding\"][:5])\n"
   ]
  },
  {
   "cell_type": "code",
   "execution_count": 9,
   "id": "3e0f8d7b-445d-4637-a601-289245d1941c",
   "metadata": {},
   "outputs": [
    {
     "name": "stdout",
     "output_type": "stream",
     "text": [
      "総チャンク数: 0\n"
     ]
    },
    {
     "ename": "IndexError",
     "evalue": "list index out of range",
     "output_type": "error",
     "traceback": [
      "\u001b[31m---------------------------------------------------------------------------\u001b[39m",
      "\u001b[31mIndexError\u001b[39m                                Traceback (most recent call last)",
      "\u001b[36mCell\u001b[39m\u001b[36m \u001b[39m\u001b[32mIn[9]\u001b[39m\u001b[32m, line 39\u001b[39m\n\u001b[32m     36\u001b[39m     chunk[\u001b[33m\"\u001b[39m\u001b[33membedding\u001b[39m\u001b[33m\"\u001b[39m] = emb\n\u001b[32m     38\u001b[39m \u001b[38;5;66;03m# FAISSインデックス構築・登録\u001b[39;00m\n\u001b[32m---> \u001b[39m\u001b[32m39\u001b[39m dim = \u001b[38;5;28mlen\u001b[39m(\u001b[43mall_chunks\u001b[49m\u001b[43m[\u001b[49m\u001b[32;43m0\u001b[39;49m\u001b[43m]\u001b[49m[\u001b[33m\"\u001b[39m\u001b[33membedding\u001b[39m\u001b[33m\"\u001b[39m])\n\u001b[32m     40\u001b[39m index = faiss.IndexFlatL2(dim)\n\u001b[32m     41\u001b[39m vecs = np.array([chunk[\u001b[33m\"\u001b[39m\u001b[33membedding\u001b[39m\u001b[33m\"\u001b[39m] \u001b[38;5;28;01mfor\u001b[39;00m chunk \u001b[38;5;129;01min\u001b[39;00m all_chunks]).astype(\u001b[33m\"\u001b[39m\u001b[33mfloat32\u001b[39m\u001b[33m\"\u001b[39m)\n",
      "\u001b[31mIndexError\u001b[39m: list index out of range"
     ]
    }
   ],
   "source": [
    "import faiss\n",
    "import numpy as np\n",
    "import pickle\n",
    "from pathlib import Path\n",
    "from glob import glob\n",
    "import pdfplumber\n",
    "from sentence_transformers import SentenceTransformer\n",
    "\n",
    "pdf_dir = Path(\"../data/input/pdf\")\n",
    "pdf_paths = sorted(pdf_dir.glob(\"*.pdf\"))\n",
    "\n",
    "all_chunks = []\n",
    "\n",
    "# モデルの準備（日本語対応、軽量）\n",
    "model = SentenceTransformer(\"intfloat/multilingual-e5-small\")\n",
    "\n",
    "# 各PDFを処理\n",
    "for pdf_path in pdf_paths:\n",
    "    with pdfplumber.open(pdf_path) as pdf:\n",
    "        for i, page in enumerate(pdf.pages):\n",
    "            text = page.extract_text()\n",
    "            if text:\n",
    "                all_chunks.append({\n",
    "                    \"chunk_id\": f\"{pdf_path}_page_{i+1}\",\n",
    "                    \"text\": text.strip(),\n",
    "                    \"page\": i + 1,\n",
    "                    \"file_path\": str(pdf_path)\n",
    "                })\n",
    "\n",
    "print(f\"総チャンク数: {len(all_chunks)}\")\n",
    "\n",
    "# ベクトル化\n",
    "texts = [chunk[\"text\"] for chunk in all_chunks]\n",
    "embeddings = model.encode(texts, normalize_embeddings=True)\n",
    "for chunk, emb in zip(all_chunks, embeddings):\n",
    "    chunk[\"embedding\"] = emb\n",
    "\n",
    "# FAISSインデックス構築・登録\n",
    "dim = len(all_chunks[0][\"embedding\"])\n",
    "index = faiss.IndexFlatL2(dim)\n",
    "vecs = np.array([chunk[\"embedding\"] for chunk in all_chunks]).astype(\"float32\")\n",
    "index.add(vecs)\n",
    "print(f\"FAISSインデックスに登録済み: {index.ntotal} 件\")\n",
    "\n",
    "index_path = Path(\"../data-source/faiss/faiss.index\")\n",
    "meta_path = Path(\"../data-source/faiss/faiss_meta.pkl\")\n",
    "index_path.parent.mkdir(parents=True, exist_ok=True)\n",
    "\n",
    "faiss.write_index(index, str(index_path))\n",
    "print(f\"インデックス保存: {index_path}\")\n",
    "\n",
    "for chunk in all_chunks:\n",
    "    chunk[\"embedding\"] = None  # 軽量化\n",
    "\n",
    "with open(meta_path, \"wb\") as f:\n",
    "    pickle.dump(all_chunks, f)\n",
    "print(f\"メタ情報保存: {meta_path}\")\n"
   ]
  },
  {
   "cell_type": "code",
   "execution_count": null,
   "id": "24e40044-6135-4b7e-85d1-6e86da72ea41",
   "metadata": {},
   "outputs": [],
   "source": [
    "import faiss\n",
    "import pickle\n",
    "import numpy as np\n",
    "from sentence_transformers import SentenceTransformer\n",
    "import pandas as pd\n",
    "\n",
    "index = faiss.read_index(\"../data/faiss/faiss.index\")\n",
    "\n",
    "with open(\"../data/faiss/faiss_meta.pkl\", \"rb\") as f:\n",
    "    chunks = pickle.load(f)\n",
    "\n",
    "model = SentenceTransformer(\"intfloat/multilingual-e5-small\")\n",
    "\n",
    "query = \"DrylabNewsについて教えて\"\n",
    "\n",
    "# クエリをベクトル化\n",
    "query_vec = model.encode([query], normalize_embeddings=True).astype(\"float32\")\n",
    "\n",
    "# FAISS検索（上位5件）\n",
    "k = 5\n",
    "D, I = index.search(query_vec, k)  # D: 距離、I: インデックス\n",
    "\n",
    "# 検索結果の整形\n",
    "results = []\n",
    "for idx, dist in zip(I[0], D[0]):\n",
    "    if idx < len(chunks):\n",
    "        result = {\n",
    "            \"page\": chunks[idx][\"page\"],\n",
    "            \"file_path\": chunks[idx][\"file_path\"],\n",
    "            \"text\": chunks[idx][\"text\"][:150] + \"...\",  # テキスト冒頭だけ表示\n",
    "            \"score(L2距離)\": float(dist)\n",
    "        }\n",
    "        results.append(result)\n",
    "\n",
    "df = pd.DataFrame(results)\n",
    "df\n"
   ]
  },
  {
   "cell_type": "code",
   "execution_count": null,
   "id": "0ffd6994-57c0-4277-82ce-2ff60270753f",
   "metadata": {},
   "outputs": [],
   "source": []
  },
  {
   "cell_type": "code",
   "execution_count": null,
   "id": "cdba1fbb-879c-472d-a6bb-823d3844a1c7",
   "metadata": {},
   "outputs": [],
   "source": []
  },
  {
   "cell_type": "code",
   "execution_count": null,
   "id": "6777ba7f-e017-436e-8737-5469f19e1762",
   "metadata": {},
   "outputs": [],
   "source": []
  },
  {
   "cell_type": "code",
   "execution_count": null,
   "id": "84a5a87c-3c21-42d0-883f-a29d21734232",
   "metadata": {},
   "outputs": [],
   "source": []
  },
  {
   "cell_type": "code",
   "execution_count": null,
   "id": "8bbcf4c4-4990-472d-8cea-2e1c7414a2b0",
   "metadata": {},
   "outputs": [],
   "source": []
  },
  {
   "cell_type": "code",
   "execution_count": null,
   "id": "5c5cfceb-8661-4b68-92d1-705cfb749f19",
   "metadata": {},
   "outputs": [],
   "source": []
  },
  {
   "cell_type": "code",
   "execution_count": null,
   "id": "eb2ddee6-8e37-420c-9780-526d3b4a887d",
   "metadata": {},
   "outputs": [],
   "source": []
  },
  {
   "cell_type": "code",
   "execution_count": null,
   "id": "64ba6aec-7c48-4f0f-9a94-db4d4508b96b",
   "metadata": {},
   "outputs": [],
   "source": []
  },
  {
   "cell_type": "code",
   "execution_count": null,
   "id": "466085b8-d0f3-4c10-8ace-509c9551b869",
   "metadata": {},
   "outputs": [],
   "source": []
  },
  {
   "cell_type": "code",
   "execution_count": null,
   "id": "a0f5fbcd-b843-4897-98d4-a78cf21e9809",
   "metadata": {},
   "outputs": [],
   "source": []
  },
  {
   "cell_type": "code",
   "execution_count": null,
   "id": "516d57bd-df86-4db2-8464-5f774706e62e",
   "metadata": {},
   "outputs": [],
   "source": []
  },
  {
   "cell_type": "code",
   "execution_count": null,
   "id": "70fa355e-67b0-42e8-8d38-66a54d385739",
   "metadata": {},
   "outputs": [],
   "source": []
  }
 ],
 "metadata": {
  "kernelspec": {
   "display_name": "Python 3 (ipykernel)",
   "language": "python",
   "name": "python3"
  },
  "language_info": {
   "codemirror_mode": {
    "name": "ipython",
    "version": 3
   },
   "file_extension": ".py",
   "mimetype": "text/x-python",
   "name": "python",
   "nbconvert_exporter": "python",
   "pygments_lexer": "ipython3",
   "version": "3.12.11"
  }
 },
 "nbformat": 4,
 "nbformat_minor": 5
}
